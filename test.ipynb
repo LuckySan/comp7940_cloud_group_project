{
 "cells": [
  {
   "cell_type": "code",
   "execution_count": 1,
   "metadata": {},
   "outputs": [],
   "source": [
    "import pandas as pd "
   ]
  },
  {
   "cell_type": "code",
   "execution_count": 2,
   "metadata": {},
   "outputs": [],
   "source": [
    "df = pd.read_csv(\"data/full_dataset_sample.csv\")"
   ]
  },
  {
   "cell_type": "code",
   "execution_count": 3,
   "metadata": {},
   "outputs": [
    {
     "data": {
      "text/plain": [
       "Unnamed: 0                                                 406306\n",
       "Unnamed: 0.1                                               406306\n",
       "title                                             Pudding Dessert\n",
       "ingredients     [\"1 Stick Butter, softened\", \"1 Cup Flour\", \"2...\n",
       "directions      [\"Combine butter, flour, powdered sugar, nuts ...\n",
       "link               www.cookbooks.com/Recipe-Details.aspx?id=92046\n",
       "source                                                   Gathered\n",
       "NER             [\"Butter\", \"Flour\", \"Powdered Sugar\", \"Cream C...\n",
       "Name: 0, dtype: object"
      ]
     },
     "execution_count": 3,
     "metadata": {},
     "output_type": "execute_result"
    }
   ],
   "source": [
    "df.iloc[0, :]"
   ]
  },
  {
   "cell_type": "code",
   "execution_count": 6,
   "metadata": {},
   "outputs": [
    {
     "data": {
      "text/plain": [
       "int"
      ]
     },
     "execution_count": 6,
     "metadata": {},
     "output_type": "execute_result"
    }
   ],
   "source": [
    "type(int(df[\"title\"].count()))"
   ]
  }
 ],
 "metadata": {
  "interpreter": {
   "hash": "0e56fb7bc076049b0663653aa05d8356de9f4f963c020ecacb94f9d4f157a6a7"
  },
  "kernelspec": {
   "display_name": "Python 3.8.12 ('dataTeamVenv')",
   "language": "python",
   "name": "python3"
  },
  "language_info": {
   "codemirror_mode": {
    "name": "ipython",
    "version": 3
   },
   "file_extension": ".py",
   "mimetype": "text/x-python",
   "name": "python",
   "nbconvert_exporter": "python",
   "pygments_lexer": "ipython3",
   "version": "3.8.12"
  },
  "orig_nbformat": 4
 },
 "nbformat": 4,
 "nbformat_minor": 2
}
